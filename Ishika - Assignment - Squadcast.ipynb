{
 "cells": [
  {
   "cell_type": "markdown",
   "metadata": {},
   "source": [
    "# Assignment by Ishika Gupta"
   ]
  },
  {
   "cell_type": "code",
   "execution_count": 1,
   "metadata": {},
   "outputs": [],
   "source": [
    "# Importing necesary libraries\n",
    "import pandas as pd\n",
    "import psycopg2 #PostgreSQL database adapter for Python"
   ]
  },
  {
   "cell_type": "code",
   "execution_count": 2,
   "metadata": {},
   "outputs": [],
   "source": [
    "# Establishing connection to render postgresql database and accessing \"ratings\" table\n",
    "conn = psycopg2.connect(\n",
    "host=\"dxx-xxxxxxxxxxxx-x.oregon-postgres.render.com\",\n",
    "database=\"db_name\",\n",
    "user=\"username\",\n",
    "password=\"*****************************\"\n",
    ")\n",
    "\n",
    "\n",
    "cur = conn.cursor()\n",
    "cur.execute(\"SELECT * FROM movies\")\n",
    "\n",
    "# Fetch the results into a DataFrame\n",
    "columns = [desc[0] for desc in cur.description]\n",
    "df_movies = pd.DataFrame(cur.fetchall(), columns=columns)\n",
    "\n",
    "conn.commit()\n",
    "cur.close()\n",
    "conn.close()"
   ]
  },
  {
   "cell_type": "code",
   "execution_count": 3,
   "metadata": {},
   "outputs": [],
   "source": [
    "# Establishing connection to render postgresql database and accessing \"ratings\" table\n",
    "conn = psycopg2.connect(\n",
    "host=\"dxx-xxxxxxxxxxxx-x.oregon-postgres.render.com\",\n",
    "database=\"db_name\",\n",
    "user=\"username\",\n",
    "password=\"*****************************\"\n",
    ")\n",
    "\n",
    "\n",
    "cur = conn.cursor()\n",
    "cur.execute(\"SELECT * FROM ratings\")\n",
    "\n",
    "# Fetch the results into a DataFrame\n",
    "columns = [desc[0] for desc in cur.description]\n",
    "df_ratings = pd.DataFrame(cur.fetchall(), columns=columns)\n",
    "\n",
    "conn.commit()\n",
    "cur.close()\n",
    "conn.close()"
   ]
  },
  {
   "cell_type": "code",
   "execution_count": 4,
   "metadata": {},
   "outputs": [],
   "source": [
    "# Storing movies table in \"movies\"\n",
    "movies = pd.DataFrame(df_movies)"
   ]
  },
  {
   "cell_type": "code",
   "execution_count": 5,
   "metadata": {},
   "outputs": [],
   "source": [
    "# Storing ratings table in \"ratings\"\n",
    "ratings = pd.DataFrame(df_ratings)"
   ]
  },
  {
   "cell_type": "code",
   "execution_count": 6,
   "metadata": {},
   "outputs": [
    {
     "data": {
      "text/plain": [
       "(3143, 8)"
      ]
     },
     "execution_count": 6,
     "metadata": {},
     "output_type": "execute_result"
    }
   ],
   "source": [
    "#Dimensions of \"movies\" table\n",
    "movies.shape"
   ]
  },
  {
   "cell_type": "code",
   "execution_count": 7,
   "metadata": {},
   "outputs": [
    {
     "data": {
      "text/plain": [
       "(10000, 4)"
      ]
     },
     "execution_count": 7,
     "metadata": {},
     "output_type": "execute_result"
    }
   ],
   "source": [
    "#Dimensions of \"ratings\" table\n",
    "ratings.shape"
   ]
  },
  {
   "cell_type": "code",
   "execution_count": 8,
   "metadata": {},
   "outputs": [
    {
     "data": {
      "text/html": [
       "<div>\n",
       "<style scoped>\n",
       "    .dataframe tbody tr th:only-of-type {\n",
       "        vertical-align: middle;\n",
       "    }\n",
       "\n",
       "    .dataframe tbody tr th {\n",
       "        vertical-align: top;\n",
       "    }\n",
       "\n",
       "    .dataframe thead th {\n",
       "        text-align: right;\n",
       "    }\n",
       "</style>\n",
       "<table border=\"1\" class=\"dataframe\">\n",
       "  <thead>\n",
       "    <tr style=\"text-align: right;\">\n",
       "      <th></th>\n",
       "      <th>id</th>\n",
       "      <th>title</th>\n",
       "      <th>year</th>\n",
       "      <th>country</th>\n",
       "      <th>genre</th>\n",
       "      <th>director</th>\n",
       "      <th>minutes</th>\n",
       "      <th>poster</th>\n",
       "    </tr>\n",
       "  </thead>\n",
       "  <tbody>\n",
       "    <tr>\n",
       "      <th>0</th>\n",
       "      <td>3112654</td>\n",
       "      <td>Mea culpa</td>\n",
       "      <td>2014</td>\n",
       "      <td>France</td>\n",
       "      <td>Action, Thriller</td>\n",
       "      <td>Fred Cavayé</td>\n",
       "      <td>90</td>\n",
       "      <td>http://ia.media-imdb.com/images/M/MV5BNTQ0ODAw...</td>\n",
       "    </tr>\n",
       "    <tr>\n",
       "      <th>1</th>\n",
       "      <td>1571222</td>\n",
       "      <td>A Dangerous Method</td>\n",
       "      <td>2011</td>\n",
       "      <td>UK, Germany, Canada, Switzerland</td>\n",
       "      <td>Biography, Drama, Thriller</td>\n",
       "      <td>David Cronenberg</td>\n",
       "      <td>99</td>\n",
       "      <td>http://ia.media-imdb.com/images/M/MV5BMTU5Mjk3...</td>\n",
       "    </tr>\n",
       "    <tr>\n",
       "      <th>2</th>\n",
       "      <td>2756032</td>\n",
       "      <td>The One I Love</td>\n",
       "      <td>2014</td>\n",
       "      <td>USA</td>\n",
       "      <td>Comedy, Drama, Romance</td>\n",
       "      <td>Charlie McDowell</td>\n",
       "      <td>91</td>\n",
       "      <td>http://ia.media-imdb.com/images/M/MV5BMTgzODMy...</td>\n",
       "    </tr>\n",
       "    <tr>\n",
       "      <th>3</th>\n",
       "      <td>2370248</td>\n",
       "      <td>Short Term 12</td>\n",
       "      <td>2013</td>\n",
       "      <td>USA</td>\n",
       "      <td>Drama</td>\n",
       "      <td>Destin Daniel Cretton</td>\n",
       "      <td>96</td>\n",
       "      <td>http://ia.media-imdb.com/images/M/MV5BMTEwNjE2...</td>\n",
       "    </tr>\n",
       "    <tr>\n",
       "      <th>4</th>\n",
       "      <td>57171</td>\n",
       "      <td>Yesterday, Today and Tomorrow</td>\n",
       "      <td>1963</td>\n",
       "      <td>Italy, France</td>\n",
       "      <td>Comedy, Romance</td>\n",
       "      <td>Vittorio De Sica</td>\n",
       "      <td>119</td>\n",
       "      <td>http://ia.media-imdb.com/images/M/MV5BMTY0NDc4...</td>\n",
       "    </tr>\n",
       "  </tbody>\n",
       "</table>\n",
       "</div>"
      ],
      "text/plain": [
       "        id                          title  year  \\\n",
       "0  3112654                      Mea culpa  2014   \n",
       "1  1571222             A Dangerous Method  2011   \n",
       "2  2756032                 The One I Love  2014   \n",
       "3  2370248                  Short Term 12  2013   \n",
       "4    57171  Yesterday, Today and Tomorrow  1963   \n",
       "\n",
       "                            country                       genre  \\\n",
       "0                            France            Action, Thriller   \n",
       "1  UK, Germany, Canada, Switzerland  Biography, Drama, Thriller   \n",
       "2                               USA      Comedy, Drama, Romance   \n",
       "3                               USA                       Drama   \n",
       "4                     Italy, France             Comedy, Romance   \n",
       "\n",
       "                director  minutes  \\\n",
       "0            Fred Cavayé       90   \n",
       "1       David Cronenberg       99   \n",
       "2       Charlie McDowell       91   \n",
       "3  Destin Daniel Cretton       96   \n",
       "4       Vittorio De Sica      119   \n",
       "\n",
       "                                              poster  \n",
       "0  http://ia.media-imdb.com/images/M/MV5BNTQ0ODAw...  \n",
       "1  http://ia.media-imdb.com/images/M/MV5BMTU5Mjk3...  \n",
       "2  http://ia.media-imdb.com/images/M/MV5BMTgzODMy...  \n",
       "3  http://ia.media-imdb.com/images/M/MV5BMTEwNjE2...  \n",
       "4  http://ia.media-imdb.com/images/M/MV5BMTY0NDc4...  "
      ]
     },
     "execution_count": 8,
     "metadata": {},
     "output_type": "execute_result"
    }
   ],
   "source": [
    "#Display the top 5 rows for movies table\n",
    "movies.head()"
   ]
  },
  {
   "cell_type": "code",
   "execution_count": 9,
   "metadata": {},
   "outputs": [
    {
     "data": {
      "text/html": [
       "<div>\n",
       "<style scoped>\n",
       "    .dataframe tbody tr th:only-of-type {\n",
       "        vertical-align: middle;\n",
       "    }\n",
       "\n",
       "    .dataframe tbody tr th {\n",
       "        vertical-align: top;\n",
       "    }\n",
       "\n",
       "    .dataframe thead th {\n",
       "        text-align: right;\n",
       "    }\n",
       "</style>\n",
       "<table border=\"1\" class=\"dataframe\">\n",
       "  <thead>\n",
       "    <tr style=\"text-align: right;\">\n",
       "      <th></th>\n",
       "      <th>rater_id</th>\n",
       "      <th>movie_id</th>\n",
       "      <th>rating</th>\n",
       "      <th>time</th>\n",
       "    </tr>\n",
       "  </thead>\n",
       "  <tbody>\n",
       "    <tr>\n",
       "      <th>0</th>\n",
       "      <td>1</td>\n",
       "      <td>68646</td>\n",
       "      <td>10</td>\n",
       "      <td>1381620027</td>\n",
       "    </tr>\n",
       "    <tr>\n",
       "      <th>1</th>\n",
       "      <td>1</td>\n",
       "      <td>113277</td>\n",
       "      <td>10</td>\n",
       "      <td>1379466669</td>\n",
       "    </tr>\n",
       "    <tr>\n",
       "      <th>2</th>\n",
       "      <td>2</td>\n",
       "      <td>422720</td>\n",
       "      <td>8</td>\n",
       "      <td>1412178746</td>\n",
       "    </tr>\n",
       "    <tr>\n",
       "      <th>3</th>\n",
       "      <td>2</td>\n",
       "      <td>454876</td>\n",
       "      <td>8</td>\n",
       "      <td>1394818630</td>\n",
       "    </tr>\n",
       "    <tr>\n",
       "      <th>4</th>\n",
       "      <td>2</td>\n",
       "      <td>790636</td>\n",
       "      <td>7</td>\n",
       "      <td>1389963947</td>\n",
       "    </tr>\n",
       "  </tbody>\n",
       "</table>\n",
       "</div>"
      ],
      "text/plain": [
       "   rater_id  movie_id  rating        time\n",
       "0         1     68646      10  1381620027\n",
       "1         1    113277      10  1379466669\n",
       "2         2    422720       8  1412178746\n",
       "3         2    454876       8  1394818630\n",
       "4         2    790636       7  1389963947"
      ]
     },
     "execution_count": 9,
     "metadata": {},
     "output_type": "execute_result"
    }
   ],
   "source": [
    "#Display the top 5 rows for ratings table\n",
    "ratings.head()"
   ]
  },
  {
   "cell_type": "code",
   "execution_count": 10,
   "metadata": {},
   "outputs": [
    {
     "name": "stdout",
     "output_type": "stream",
     "text": [
      "<class 'pandas.core.frame.DataFrame'>\n",
      "RangeIndex: 3143 entries, 0 to 3142\n",
      "Data columns (total 8 columns):\n",
      " #   Column    Non-Null Count  Dtype \n",
      "---  ------    --------------  ----- \n",
      " 0   id        3143 non-null   int64 \n",
      " 1   title     3143 non-null   object\n",
      " 2   year      3143 non-null   int64 \n",
      " 3   country   3143 non-null   object\n",
      " 4   genre     3143 non-null   object\n",
      " 5   director  3143 non-null   object\n",
      " 6   minutes   3143 non-null   int64 \n",
      " 7   poster    3143 non-null   object\n",
      "dtypes: int64(3), object(5)\n",
      "memory usage: 196.6+ KB\n"
     ]
    }
   ],
   "source": [
    "#Information about movies table and its attributes\n",
    "movies.info()"
   ]
  },
  {
   "cell_type": "code",
   "execution_count": 11,
   "metadata": {},
   "outputs": [
    {
     "name": "stdout",
     "output_type": "stream",
     "text": [
      "<class 'pandas.core.frame.DataFrame'>\n",
      "RangeIndex: 10000 entries, 0 to 9999\n",
      "Data columns (total 4 columns):\n",
      " #   Column    Non-Null Count  Dtype\n",
      "---  ------    --------------  -----\n",
      " 0   rater_id  10000 non-null  int64\n",
      " 1   movie_id  10000 non-null  int64\n",
      " 2   rating    10000 non-null  int64\n",
      " 3   time      10000 non-null  int64\n",
      "dtypes: int64(4)\n",
      "memory usage: 312.6 KB\n"
     ]
    }
   ],
   "source": [
    "#Information about ratings table and its attributes\n",
    "ratings.info()"
   ]
  },
  {
   "cell_type": "code",
   "execution_count": 12,
   "metadata": {},
   "outputs": [
    {
     "data": {
      "text/plain": [
       "id          0\n",
       "title       0\n",
       "year        0\n",
       "country     0\n",
       "genre       0\n",
       "director    0\n",
       "minutes     0\n",
       "poster      0\n",
       "dtype: int64"
      ]
     },
     "execution_count": 12,
     "metadata": {},
     "output_type": "execute_result"
    }
   ],
   "source": [
    "#Checking total number of null values for each column of movies table\n",
    "movies.isna().sum()"
   ]
  },
  {
   "cell_type": "code",
   "execution_count": 13,
   "metadata": {},
   "outputs": [
    {
     "data": {
      "text/plain": [
       "rater_id    0\n",
       "movie_id    0\n",
       "rating      0\n",
       "time        0\n",
       "dtype: int64"
      ]
     },
     "execution_count": 13,
     "metadata": {},
     "output_type": "execute_result"
    }
   ],
   "source": [
    "#Checking total number of null values for each column of ratings table\n",
    "ratings.isna().sum()"
   ]
  },
  {
   "cell_type": "code",
   "execution_count": 14,
   "metadata": {},
   "outputs": [],
   "source": [
    "#Changing name of \"id\" column in \"movies\" table to \"movie_id\" for merging\n",
    "movies.rename({'id':'movie_id'}, axis='columns', inplace=True)"
   ]
  },
  {
   "cell_type": "code",
   "execution_count": 15,
   "metadata": {},
   "outputs": [],
   "source": [
    "# Merging movies and ratings tables on the basis of \"movie_id\" column\n",
    "df = movies.merge(ratings,on=\"movie_id\")"
   ]
  },
  {
   "cell_type": "code",
   "execution_count": 16,
   "metadata": {},
   "outputs": [],
   "source": [
    "# Dropping unnecessary columns\n",
    "df.drop(['poster','time'],axis=1,inplace=True)"
   ]
  },
  {
   "cell_type": "code",
   "execution_count": 17,
   "metadata": {},
   "outputs": [],
   "source": [
    "# Creating new columns\n",
    "# Create 'num_ratings_per_movie' representing the number of times each movie is rated\n",
    "df['num_ratings_per_movie'] = df.groupby('title')['rating'].transform('count')\n",
    "\n",
    "# Create 'num_movies_rated_by_rater' representing the count of movies rated by each rater\n",
    "df['num_movies_rated_by_rater'] = df.groupby('rater_id')['rating'].transform('count')"
   ]
  },
  {
   "cell_type": "code",
   "execution_count": 18,
   "metadata": {},
   "outputs": [
    {
     "data": {
      "text/plain": [
       "(10000, 11)"
      ]
     },
     "execution_count": 18,
     "metadata": {},
     "output_type": "execute_result"
    }
   ],
   "source": [
    "#Checking the dimensions of merged table\n",
    "df.shape"
   ]
  },
  {
   "cell_type": "code",
   "execution_count": 19,
   "metadata": {},
   "outputs": [],
   "source": [
    "# Replace all \"N/A\" with python null values\n",
    "df.replace(\"N/A\", pd.NA, inplace=True)"
   ]
  },
  {
   "cell_type": "code",
   "execution_count": 20,
   "metadata": {},
   "outputs": [
    {
     "data": {
      "text/plain": [
       "movie_id                     0\n",
       "title                        0\n",
       "year                         0\n",
       "country                      2\n",
       "genre                        4\n",
       "director                     1\n",
       "minutes                      0\n",
       "rater_id                     0\n",
       "rating                       0\n",
       "num_ratings_per_movie        0\n",
       "num_movies_rated_by_rater    0\n",
       "dtype: int64"
      ]
     },
     "execution_count": 20,
     "metadata": {},
     "output_type": "execute_result"
    }
   ],
   "source": [
    "# checking number of null values in new dataframe\n",
    "df.isna().sum()"
   ]
  },
  {
   "cell_type": "code",
   "execution_count": 21,
   "metadata": {},
   "outputs": [],
   "source": [
    "# Since the number of null values is much lesser than the cardinality of data, we can drop them\n",
    "df.dropna(inplace=True)"
   ]
  },
  {
   "cell_type": "markdown",
   "metadata": {},
   "source": [
    "# Answer 1\n",
    "a. Top 5 Movie Titles: Sort and print the top 5 movie titles based on the following criteria:\n",
    "● Duration\n",
    "● Year of Release\n",
    "● Average rating (consider movies with minimum 5 ratings)\n",
    "● Number of ratings given"
   ]
  },
  {
   "cell_type": "markdown",
   "metadata": {},
   "source": [
    "## By duration"
   ]
  },
  {
   "cell_type": "code",
   "execution_count": 22,
   "metadata": {},
   "outputs": [],
   "source": [
    "#Sorting values in dataframe by duration in ascending order and storing in \"df1_a\"\n",
    "df1_a = df.sort_values(by=['minutes']).head()"
   ]
  },
  {
   "cell_type": "code",
   "execution_count": 23,
   "metadata": {},
   "outputs": [
    {
     "data": {
      "text/plain": [
       "['After My Garden Grows',\n",
       " 'Lekar Hum Deewana Dil',\n",
       " 'Romantik Komedi 2: Bekarliga Veda',\n",
       " 'Romeo Ranjha',\n",
       " 'Sonsuz']"
      ]
     },
     "execution_count": 23,
     "metadata": {},
     "output_type": "execute_result"
    }
   ],
   "source": [
    "#Title of top 5 movies with lowest duration in ascending order of movie title\n",
    "df1_a['title'].sort_values().values.tolist()"
   ]
  },
  {
   "cell_type": "markdown",
   "metadata": {},
   "source": [
    "## By year of release"
   ]
  },
  {
   "cell_type": "code",
   "execution_count": 24,
   "metadata": {},
   "outputs": [],
   "source": [
    "#Sorting values in dataframe by year of release in ascending order and storing in \"df1_b\"\n",
    "df1_b = df.sort_values(by=['year']).head()"
   ]
  },
  {
   "cell_type": "code",
   "execution_count": 25,
   "metadata": {},
   "outputs": [
    {
     "data": {
      "text/plain": [
       "['Behind the Screen',\n",
       " 'Hot Water',\n",
       " 'Häxan: Witchcraft Through the Ages',\n",
       " 'The Gold Rush',\n",
       " 'The Navigator']"
      ]
     },
     "execution_count": 25,
     "metadata": {},
     "output_type": "execute_result"
    }
   ],
   "source": [
    "#Title of top 5 movies with earliest release date in ascending order of movie title\n",
    "df1_b['title'].sort_values().values.tolist()"
   ]
  },
  {
   "cell_type": "markdown",
   "metadata": {},
   "source": [
    "## By average rating"
   ]
  },
  {
   "cell_type": "code",
   "execution_count": 26,
   "metadata": {},
   "outputs": [],
   "source": [
    "#Taking only the rows where movies have at least 5 ratings and storing the new dataframe in \"df1\"\n",
    "df1 = df[df['num_ratings_per_movie']>=5]"
   ]
  },
  {
   "cell_type": "markdown",
   "metadata": {},
   "source": [
    "Note: df1 is the dataframe with movies with at least 5 ratings"
   ]
  },
  {
   "cell_type": "code",
   "execution_count": 27,
   "metadata": {},
   "outputs": [],
   "source": [
    "#Sorting values in dataframe by average rating (movies with more than 5 ratings) in ascending order and storing in \"df1_c\"\n",
    "df1_c = df1.sort_values(by=['rating']).head()"
   ]
  },
  {
   "cell_type": "code",
   "execution_count": 28,
   "metadata": {},
   "outputs": [
    {
     "data": {
      "text/plain": [
       "['A Most Wanted Man',\n",
       " 'Brick Mansions',\n",
       " 'Into the Woods',\n",
       " 'Requiem for a Dream',\n",
       " 'The Thin Red Line']"
      ]
     },
     "execution_count": 28,
     "metadata": {},
     "output_type": "execute_result"
    }
   ],
   "source": [
    "#Title of top 5 movies with lowest average rating in ascending order of movie title\n",
    "df1_c['title'].sort_values().values.tolist()"
   ]
  },
  {
   "cell_type": "markdown",
   "metadata": {},
   "source": [
    "## By number of ratings"
   ]
  },
  {
   "cell_type": "code",
   "execution_count": 29,
   "metadata": {},
   "outputs": [],
   "source": [
    "#Sorting values in dataframe by number of ratings per movie in ascending order and storing in \"df1_d\"\n",
    "df1_d = df.sort_values(by=['num_ratings_per_movie']).head()"
   ]
  },
  {
   "cell_type": "code",
   "execution_count": 30,
   "metadata": {},
   "outputs": [
    {
     "data": {
      "text/plain": [
       "['A Dark Truth', 'Drive Hard', 'Earth to Echo', 'Mea culpa', 'Muscle Shoals']"
      ]
     },
     "execution_count": 30,
     "metadata": {},
     "output_type": "execute_result"
    }
   ],
   "source": [
    "#Title of top 5 movies with lowest number of ratings in ascending order of movie title\n",
    "df1_d['title'].sort_values().values.tolist()"
   ]
  },
  {
   "cell_type": "markdown",
   "metadata": {},
   "source": [
    "# Answer 2\n",
    "b. Number of Unique Raters: Determine and print the count of unique rater IDs"
   ]
  },
  {
   "cell_type": "code",
   "execution_count": 31,
   "metadata": {},
   "outputs": [
    {
     "data": {
      "text/plain": [
       "1047"
      ]
     },
     "execution_count": 31,
     "metadata": {},
     "output_type": "execute_result"
    }
   ],
   "source": [
    "# Number of unique rater IDs\n",
    "df['rater_id'].nunique()"
   ]
  },
  {
   "cell_type": "markdown",
   "metadata": {},
   "source": [
    "# Answer 3\n",
    "c. Top 5 Rater IDs: Sort and print the top 5 rater IDs based on:\n",
    "● Most movies rated\n",
    "● Highest Average rating given (consider raters with min 5 ratings)"
   ]
  },
  {
   "cell_type": "markdown",
   "metadata": {},
   "source": [
    "## By number of movies rated"
   ]
  },
  {
   "cell_type": "code",
   "execution_count": 32,
   "metadata": {},
   "outputs": [],
   "source": [
    "# Sorting data frame by number of ratings by each rater (grouping by rater_id) \n",
    "# in descending order and storing the new dataframe in \"df3_a\"\n",
    "df3_a = df.sort_values(by=['num_movies_rated_by_rater'],ascending=False)"
   ]
  },
  {
   "cell_type": "code",
   "execution_count": 33,
   "metadata": {},
   "outputs": [
    {
     "name": "stdout",
     "output_type": "stream",
     "text": [
      "[82, 512, 735, 769, 800]\n"
     ]
    }
   ],
   "source": [
    "# Top 5 rater IDs who have rated maximum number of movies in ascending order\n",
    "top_5_raters_id = df3_a['rater_id'].value_counts().head(5).index.tolist()\n",
    "top_5_raters_id.sort()\n",
    "print(top_5_raters_id)"
   ]
  },
  {
   "cell_type": "markdown",
   "metadata": {},
   "source": [
    "## By Highest Average rating given (consider raters with min 5 ratings)"
   ]
  },
  {
   "cell_type": "code",
   "execution_count": 34,
   "metadata": {},
   "outputs": [],
   "source": [
    "# Filtering out records with raters who have rated at least 5 movies and storing in \"df3\"\n",
    "df3 = df[df['num_movies_rated_by_rater']>=5]"
   ]
  },
  {
   "cell_type": "markdown",
   "metadata": {},
   "source": [
    "Note: df3 is the dataframe with raters who have done at least 5 ratings"
   ]
  },
  {
   "cell_type": "code",
   "execution_count": 35,
   "metadata": {},
   "outputs": [],
   "source": [
    "# Sorting values in dataframe by average rating (movies with more than 5 ratings) by \n",
    "# each rater (grouping by rater_id) in descending order and storing in \"df3_b\"\n",
    "df3_b = df3.sort_values(by=['rating'],ascending=False)"
   ]
  },
  {
   "cell_type": "code",
   "execution_count": 36,
   "metadata": {},
   "outputs": [],
   "source": [
    "# extracting raters id in descending order of their number of ratings\n",
    "top_raters_id = df3_b['rater_id'].head().values.tolist()"
   ]
  },
  {
   "cell_type": "code",
   "execution_count": 37,
   "metadata": {},
   "outputs": [
    {
     "name": "stdout",
     "output_type": "stream",
     "text": [
      "[88, 314, 318, 485, 678]\n"
     ]
    }
   ],
   "source": [
    "# Top 5 raters_id who have rated maximum number of movies in ascending order\n",
    "top5_raters_id = top_raters_id[:5]\n",
    "top5_raters_id.sort()\n",
    "print(top5_raters_id)"
   ]
  },
  {
   "cell_type": "markdown",
   "metadata": {},
   "source": [
    "# Answer 4\n",
    "d. Top Rated Movie:\n",
    "- Find and print the top-rated movies by:\n",
    "● Director 'Michael Bay',\n",
    "● 'Comedy',\n",
    "● In the year 2013\n",
    "● In India (consider movies with a minimum of 5 ratings)"
   ]
  },
  {
   "cell_type": "markdown",
   "metadata": {},
   "source": [
    "### Assumption - Considering the movies with at least 7 rating score as \"top-rated\""
   ]
  },
  {
   "cell_type": "markdown",
   "metadata": {},
   "source": [
    "## By Director 'Michael Bay'"
   ]
  },
  {
   "cell_type": "code",
   "execution_count": 38,
   "metadata": {},
   "outputs": [],
   "source": [
    "# Sorting dataframe by movies with director \"Michael Bay\" having at least 7 rating score and storing it in df4_a\n",
    "df4_a = df[(df['director']=='Michael Bay') & (df['rating']>=7)].sort_values(by=['rating'], ascending=False)"
   ]
  },
  {
   "cell_type": "code",
   "execution_count": 39,
   "metadata": {},
   "outputs": [
    {
     "name": "stdout",
     "output_type": "stream",
     "text": [
      "['Pain & Gain', 'Transformers', 'Transformers: Age of Extinction', 'Transformers: Dark of the Moon', 'Transformers: Revenge of the Fallen']\n"
     ]
    }
   ],
   "source": [
    "# Top rated 5 movies by Director \"Michael Bay\" in ascending order\n",
    "top_rated_5_movies = df4_a['title'].value_counts().head(5).index.tolist()\n",
    "top_rated_5_movies.sort()\n",
    "print(top_rated_5_movies)"
   ]
  },
  {
   "cell_type": "markdown",
   "metadata": {},
   "source": [
    "## By Comedy"
   ]
  },
  {
   "cell_type": "code",
   "execution_count": 40,
   "metadata": {},
   "outputs": [],
   "source": [
    "# Sorting dataframe by movies with genre \"Comedy\" having at least 7 ratings and storing it in df4_b\n",
    "df4_b = df[(df['genre']=='Comedy') & (df['rating']>=7)].sort_values(by=['rating'], ascending=False)"
   ]
  },
  {
   "cell_type": "code",
   "execution_count": 41,
   "metadata": {},
   "outputs": [
    {
     "data": {
      "text/plain": [
       "[\"Ferris Bueller's Day Off\",\n",
       " 'Grown Ups 2',\n",
       " 'Mac & Devin Go to High School',\n",
       " 'In a World...',\n",
       " 'Authors Anonymous']"
      ]
     },
     "execution_count": 41,
     "metadata": {},
     "output_type": "execute_result"
    }
   ],
   "source": [
    "#Top-rated 5 movies in genre \"Comedy\"\n",
    "df4_b['title'].head().values.tolist()"
   ]
  },
  {
   "cell_type": "markdown",
   "metadata": {},
   "source": [
    "## By year as 2013"
   ]
  },
  {
   "cell_type": "code",
   "execution_count": 42,
   "metadata": {},
   "outputs": [],
   "source": [
    "# Sorting dataframe by movies with year of release \"2013\" having at least 7 ratings and storing it in df4_c\n",
    "df4_c = df[(df['year']==2013) & (df['rating']>=7)].sort_values(by=['rating'], ascending=False)"
   ]
  },
  {
   "cell_type": "code",
   "execution_count": 43,
   "metadata": {},
   "outputs": [
    {
     "data": {
      "text/plain": [
       "['12 Years a Slave',\n",
       " 'The Wolf of Wall Street',\n",
       " 'The Wolverine',\n",
       " 'Riddick',\n",
       " 'Dallas Buyers Club']"
      ]
     },
     "execution_count": 43,
     "metadata": {},
     "output_type": "execute_result"
    }
   ],
   "source": [
    "#Top-rated 5 movies in the year 2013\n",
    "df4_c['title'].head().values.tolist()"
   ]
  },
  {
   "cell_type": "markdown",
   "metadata": {},
   "source": [
    "## By country as India (movies with a minimum of 5 ratings)"
   ]
  },
  {
   "cell_type": "markdown",
   "metadata": {},
   "source": [
    "Note: df1 is the dataframe with movies with at least 5 ratings"
   ]
  },
  {
   "cell_type": "code",
   "execution_count": 44,
   "metadata": {},
   "outputs": [],
   "source": [
    "# Sorting dataframe by movies with country as \"India\" having at least 7 ratings and storing it in df4_d\n",
    "df4_d = df1[(df1['country']=='India') & (df1['rating']>=7)].sort_values(by=['rating'], ascending=False)"
   ]
  },
  {
   "cell_type": "code",
   "execution_count": 45,
   "metadata": {},
   "outputs": [
    {
     "name": "stdout",
     "output_type": "stream",
     "text": [
      "['3 Idiots', 'PK']\n"
     ]
    }
   ],
   "source": [
    "#Top-rated movies in India in ascending order\n",
    "top_rated_movies_india = df4_d['title'].value_counts().head(5).index.tolist()\n",
    "top_rated_movies_india.sort()\n",
    "print(top_rated_movies_india)"
   ]
  },
  {
   "cell_type": "markdown",
   "metadata": {},
   "source": [
    "## Answer 5\n",
    "e. Favorite Movie Genre of Rater ID 1040: Determine and print the favorite movie genre\n",
    "for the rater with ID 1040 (defined as the genre of the movie the rater has rated most often)."
   ]
  },
  {
   "cell_type": "code",
   "execution_count": 46,
   "metadata": {},
   "outputs": [],
   "source": [
    "# Filtering records having ratings for rater id \"1040\" only\n",
    "df5 = df[df['rater_id']==1040]"
   ]
  },
  {
   "cell_type": "code",
   "execution_count": 47,
   "metadata": {},
   "outputs": [
    {
     "name": "stderr",
     "output_type": "stream",
     "text": [
      "<ipython-input-47-245880cc46e5>:1: SettingWithCopyWarning: \n",
      "A value is trying to be set on a copy of a slice from a DataFrame.\n",
      "Try using .loc[row_indexer,col_indexer] = value instead\n",
      "\n",
      "See the caveats in the documentation: https://pandas.pydata.org/pandas-docs/stable/user_guide/indexing.html#returning-a-view-versus-a-copy\n",
      "  df5['Number_of_time_genre_rated'] = df5.groupby('genre')['rating'].transform('count')\n"
     ]
    }
   ],
   "source": [
    "# Create new column 'Number_of_time_genre_rated' representing number of times each genre is rated by raters\n",
    "df5['Number_of_time_genre_rated'] = df5.groupby('genre')['rating'].transform('count')"
   ]
  },
  {
   "cell_type": "code",
   "execution_count": 48,
   "metadata": {},
   "outputs": [
    {
     "data": {
      "text/html": [
       "<div>\n",
       "<style scoped>\n",
       "    .dataframe tbody tr th:only-of-type {\n",
       "        vertical-align: middle;\n",
       "    }\n",
       "\n",
       "    .dataframe tbody tr th {\n",
       "        vertical-align: top;\n",
       "    }\n",
       "\n",
       "    .dataframe thead th {\n",
       "        text-align: right;\n",
       "    }\n",
       "</style>\n",
       "<table border=\"1\" class=\"dataframe\">\n",
       "  <thead>\n",
       "    <tr style=\"text-align: right;\">\n",
       "      <th></th>\n",
       "      <th>movie_id</th>\n",
       "      <th>title</th>\n",
       "      <th>year</th>\n",
       "      <th>country</th>\n",
       "      <th>genre</th>\n",
       "      <th>director</th>\n",
       "      <th>minutes</th>\n",
       "      <th>rater_id</th>\n",
       "      <th>rating</th>\n",
       "      <th>num_ratings_per_movie</th>\n",
       "      <th>num_movies_rated_by_rater</th>\n",
       "      <th>Number_of_time_genre_rated</th>\n",
       "    </tr>\n",
       "  </thead>\n",
       "  <tbody>\n",
       "    <tr>\n",
       "      <th>1321</th>\n",
       "      <td>1631867</td>\n",
       "      <td>Edge of Tomorrow</td>\n",
       "      <td>2014</td>\n",
       "      <td>USA, Canada</td>\n",
       "      <td>Action, Adventure, Sci-Fi</td>\n",
       "      <td>Doug Liman</td>\n",
       "      <td>113</td>\n",
       "      <td>1040</td>\n",
       "      <td>9</td>\n",
       "      <td>37</td>\n",
       "      <td>113</td>\n",
       "      <td>11</td>\n",
       "    </tr>\n",
       "    <tr>\n",
       "      <th>1033</th>\n",
       "      <td>1300854</td>\n",
       "      <td>Iron Man 3</td>\n",
       "      <td>2013</td>\n",
       "      <td>USA, China</td>\n",
       "      <td>Action, Adventure, Sci-Fi</td>\n",
       "      <td>Shane Black</td>\n",
       "      <td>130</td>\n",
       "      <td>1040</td>\n",
       "      <td>7</td>\n",
       "      <td>40</td>\n",
       "      <td>113</td>\n",
       "      <td>11</td>\n",
       "    </tr>\n",
       "    <tr>\n",
       "      <th>6954</th>\n",
       "      <td>796366</td>\n",
       "      <td>Star Trek</td>\n",
       "      <td>2009</td>\n",
       "      <td>USA, Germany</td>\n",
       "      <td>Action, Adventure, Sci-Fi</td>\n",
       "      <td>J.J. Abrams</td>\n",
       "      <td>127</td>\n",
       "      <td>1040</td>\n",
       "      <td>10</td>\n",
       "      <td>6</td>\n",
       "      <td>113</td>\n",
       "      <td>11</td>\n",
       "    </tr>\n",
       "    <tr>\n",
       "      <th>7059</th>\n",
       "      <td>1408101</td>\n",
       "      <td>Star Trek Into Darkness</td>\n",
       "      <td>2013</td>\n",
       "      <td>USA</td>\n",
       "      <td>Action, Adventure, Sci-Fi</td>\n",
       "      <td>J.J. Abrams</td>\n",
       "      <td>132</td>\n",
       "      <td>1040</td>\n",
       "      <td>10</td>\n",
       "      <td>42</td>\n",
       "      <td>113</td>\n",
       "      <td>11</td>\n",
       "    </tr>\n",
       "    <tr>\n",
       "      <th>3358</th>\n",
       "      <td>1430132</td>\n",
       "      <td>The Wolverine</td>\n",
       "      <td>2013</td>\n",
       "      <td>USA, UK, Australia, Japan</td>\n",
       "      <td>Action, Adventure, Sci-Fi</td>\n",
       "      <td>James Mangold</td>\n",
       "      <td>126</td>\n",
       "      <td>1040</td>\n",
       "      <td>6</td>\n",
       "      <td>32</td>\n",
       "      <td>113</td>\n",
       "      <td>11</td>\n",
       "    </tr>\n",
       "    <tr>\n",
       "      <th>...</th>\n",
       "      <td>...</td>\n",
       "      <td>...</td>\n",
       "      <td>...</td>\n",
       "      <td>...</td>\n",
       "      <td>...</td>\n",
       "      <td>...</td>\n",
       "      <td>...</td>\n",
       "      <td>...</td>\n",
       "      <td>...</td>\n",
       "      <td>...</td>\n",
       "      <td>...</td>\n",
       "      <td>...</td>\n",
       "    </tr>\n",
       "    <tr>\n",
       "      <th>4422</th>\n",
       "      <td>3622592</td>\n",
       "      <td>Paper Towns</td>\n",
       "      <td>2015</td>\n",
       "      <td>USA</td>\n",
       "      <td>Drama, Mystery, Romance</td>\n",
       "      <td>Jake Schreier</td>\n",
       "      <td>109</td>\n",
       "      <td>1040</td>\n",
       "      <td>7</td>\n",
       "      <td>4</td>\n",
       "      <td>113</td>\n",
       "      <td>1</td>\n",
       "    </tr>\n",
       "    <tr>\n",
       "      <th>7586</th>\n",
       "      <td>2361184</td>\n",
       "      <td>Tapped Out</td>\n",
       "      <td>2014</td>\n",
       "      <td>Canada</td>\n",
       "      <td>Action, Drama, Sport</td>\n",
       "      <td>Allan Ungar</td>\n",
       "      <td>105</td>\n",
       "      <td>1040</td>\n",
       "      <td>4</td>\n",
       "      <td>1</td>\n",
       "      <td>113</td>\n",
       "      <td>1</td>\n",
       "    </tr>\n",
       "    <tr>\n",
       "      <th>3758</th>\n",
       "      <td>2243537</td>\n",
       "      <td>A Haunted House</td>\n",
       "      <td>2013</td>\n",
       "      <td>USA</td>\n",
       "      <td>Comedy, Horror</td>\n",
       "      <td>Michael Tiddes</td>\n",
       "      <td>86</td>\n",
       "      <td>1040</td>\n",
       "      <td>3</td>\n",
       "      <td>3</td>\n",
       "      <td>113</td>\n",
       "      <td>1</td>\n",
       "    </tr>\n",
       "    <tr>\n",
       "      <th>5614</th>\n",
       "      <td>2112124</td>\n",
       "      <td>Chennai Express</td>\n",
       "      <td>2013</td>\n",
       "      <td>India</td>\n",
       "      <td>Action, Comedy, Romance</td>\n",
       "      <td>Rohit Shetty</td>\n",
       "      <td>141</td>\n",
       "      <td>1040</td>\n",
       "      <td>10</td>\n",
       "      <td>1</td>\n",
       "      <td>113</td>\n",
       "      <td>1</td>\n",
       "    </tr>\n",
       "    <tr>\n",
       "      <th>9920</th>\n",
       "      <td>328107</td>\n",
       "      <td>Man on Fire</td>\n",
       "      <td>2004</td>\n",
       "      <td>USA, UK</td>\n",
       "      <td>Action, Crime, Drama</td>\n",
       "      <td>Tony Scott</td>\n",
       "      <td>146</td>\n",
       "      <td>1040</td>\n",
       "      <td>7</td>\n",
       "      <td>4</td>\n",
       "      <td>113</td>\n",
       "      <td>1</td>\n",
       "    </tr>\n",
       "  </tbody>\n",
       "</table>\n",
       "<p>113 rows × 12 columns</p>\n",
       "</div>"
      ],
      "text/plain": [
       "      movie_id                    title  year                    country  \\\n",
       "1321   1631867         Edge of Tomorrow  2014                USA, Canada   \n",
       "1033   1300854               Iron Man 3  2013                 USA, China   \n",
       "6954    796366                Star Trek  2009               USA, Germany   \n",
       "7059   1408101  Star Trek Into Darkness  2013                        USA   \n",
       "3358   1430132            The Wolverine  2013  USA, UK, Australia, Japan   \n",
       "...        ...                      ...   ...                        ...   \n",
       "4422   3622592              Paper Towns  2015                        USA   \n",
       "7586   2361184               Tapped Out  2014                     Canada   \n",
       "3758   2243537          A Haunted House  2013                        USA   \n",
       "5614   2112124          Chennai Express  2013                      India   \n",
       "9920    328107              Man on Fire  2004                    USA, UK   \n",
       "\n",
       "                          genre        director  minutes  rater_id  rating  \\\n",
       "1321  Action, Adventure, Sci-Fi      Doug Liman      113      1040       9   \n",
       "1033  Action, Adventure, Sci-Fi     Shane Black      130      1040       7   \n",
       "6954  Action, Adventure, Sci-Fi     J.J. Abrams      127      1040      10   \n",
       "7059  Action, Adventure, Sci-Fi     J.J. Abrams      132      1040      10   \n",
       "3358  Action, Adventure, Sci-Fi   James Mangold      126      1040       6   \n",
       "...                         ...             ...      ...       ...     ...   \n",
       "4422    Drama, Mystery, Romance   Jake Schreier      109      1040       7   \n",
       "7586       Action, Drama, Sport     Allan Ungar      105      1040       4   \n",
       "3758             Comedy, Horror  Michael Tiddes       86      1040       3   \n",
       "5614    Action, Comedy, Romance    Rohit Shetty      141      1040      10   \n",
       "9920       Action, Crime, Drama      Tony Scott      146      1040       7   \n",
       "\n",
       "      num_ratings_per_movie  num_movies_rated_by_rater  \\\n",
       "1321                     37                        113   \n",
       "1033                     40                        113   \n",
       "6954                      6                        113   \n",
       "7059                     42                        113   \n",
       "3358                     32                        113   \n",
       "...                     ...                        ...   \n",
       "4422                      4                        113   \n",
       "7586                      1                        113   \n",
       "3758                      3                        113   \n",
       "5614                      1                        113   \n",
       "9920                      4                        113   \n",
       "\n",
       "      Number_of_time_genre_rated  \n",
       "1321                          11  \n",
       "1033                          11  \n",
       "6954                          11  \n",
       "7059                          11  \n",
       "3358                          11  \n",
       "...                          ...  \n",
       "4422                           1  \n",
       "7586                           1  \n",
       "3758                           1  \n",
       "5614                           1  \n",
       "9920                           1  \n",
       "\n",
       "[113 rows x 12 columns]"
      ]
     },
     "execution_count": 48,
     "metadata": {},
     "output_type": "execute_result"
    }
   ],
   "source": [
    "# Sorting records in descending order by number of times each genre is rated\n",
    "df5.sort_values(by=['Number_of_time_genre_rated'],ascending=False)"
   ]
  },
  {
   "cell_type": "code",
   "execution_count": 49,
   "metadata": {},
   "outputs": [
    {
     "name": "stdout",
     "output_type": "stream",
     "text": [
      "Favourite Genre for rater with ID 1040: Action, Adventure, Sci-Fi\n"
     ]
    }
   ],
   "source": [
    "# Find the index where a genre is rated maximum number of times\n",
    "max_genre_index = df5['Number_of_time_genre_rated'].idxmax()\n",
    "\n",
    "# Get the corresponding genre value for the maximum number of times a genre is rated\n",
    "max_genre_value = df5.loc[max_genre_index, 'genre']\n",
    "\n",
    "# Display the result\n",
    "print(\"Favourite Genre for rater with ID 1040:\", max_genre_value)"
   ]
  },
  {
   "cell_type": "markdown",
   "metadata": {},
   "source": [
    "# Answer 6\n",
    "f. Highest Average Rating for a Movie Genre by Rater ID 1040: Find and print the\n",
    "highest average rating for a movie genre given by the rater with ID 1040 (consider genres with a\n",
    "minimum of 5 ratings)."
   ]
  },
  {
   "cell_type": "markdown",
   "metadata": {},
   "source": [
    "Note: df5 is the dataframe with details of rater with ID 1040 and the number of times he rated each genre"
   ]
  },
  {
   "cell_type": "code",
   "execution_count": 50,
   "metadata": {},
   "outputs": [],
   "source": [
    "# Filtering records having ratings for rater id \"1040\" only and sorting them in descending order by number of ratings\n",
    "df6 = df5[df5['Number_of_time_genre_rated']>=5].sort_values(by=['rating'],ascending=False)"
   ]
  },
  {
   "cell_type": "code",
   "execution_count": 51,
   "metadata": {},
   "outputs": [
    {
     "name": "stdout",
     "output_type": "stream",
     "text": [
      "Highest average rating is 10 for genre Action, Adventure, Sci-Fi by rater with ID 1040.\n"
     ]
    }
   ],
   "source": [
    "# Find the index where the rating is maximum\n",
    "max_rating_index = df6['rating'].idxmax()\n",
    "\n",
    "# Get the corresponding genre and rating value for the maximum rating\n",
    "max_rated_genre_value = df6.loc[max_rating_index, 'genre']\n",
    "highest_avg_rating = df6.loc[max_rating_index,'rating']\n",
    "\n",
    "# Display the result\n",
    "print(\"Highest average rating is {} for genre {} by rater with ID 1040.\".format(highest_avg_rating, max_rated_genre_value))"
   ]
  },
  {
   "cell_type": "markdown",
   "metadata": {},
   "source": [
    "# Answer 7\n",
    "g. Year with Second-Highest Number of Action Movies: Identify and print the year with\n",
    "the second-highest number of action movies from the USA that received an average rating of\n",
    "6.5 or higher and had a runtime of less than 120 minutes."
   ]
  },
  {
   "cell_type": "code",
   "execution_count": 52,
   "metadata": {},
   "outputs": [],
   "source": [
    "# Sorting data frame for movies where country is USA, average rating>=6.5,\n",
    "# runtime of less than 120 minutes and genre as Action and storing in df7\n",
    "df7 = df[(df['country']=='USA') & (df['rating']>=6.5) & (df['minutes']<120) & (df['genre']=='Action')]"
   ]
  },
  {
   "cell_type": "code",
   "execution_count": 53,
   "metadata": {},
   "outputs": [
    {
     "name": "stdout",
     "output_type": "stream",
     "text": [
      "Year with second-highest number of matching action movies: 2003\n"
     ]
    }
   ],
   "source": [
    "# Calculate movie count per year\n",
    "movie_count_per_year = df7[\"year\"].value_counts()\n",
    "\n",
    "# Find year with second-highest count\n",
    "if len(movie_count_per_year)>1:\n",
    "    second_highest_year = movie_count_per_year.nlargest(2).index[1]\n",
    "else:\n",
    "    second_highest_year = movie_count_per_year.index[0]\n",
    "\n",
    "# Print the year\n",
    "print(f\"Year with second-highest number of matching action movies: {second_highest_year}\")"
   ]
  },
  {
   "cell_type": "markdown",
   "metadata": {},
   "source": [
    "# Answer 8\n",
    "h. Count of Movies with High Ratings: Count and print the number of movies that have\n",
    "received at least five reviews with a rating of 7 or higher."
   ]
  },
  {
   "cell_type": "markdown",
   "metadata": {},
   "source": [
    "Note: df1 is the dataframe with movies with at least 5 ratings"
   ]
  },
  {
   "cell_type": "code",
   "execution_count": 54,
   "metadata": {},
   "outputs": [],
   "source": [
    "# Filtering out records where rating for movie is 7 or higher and storing in df8\n",
    "df8 = df1[df1['rating']>=7]"
   ]
  },
  {
   "cell_type": "code",
   "execution_count": 55,
   "metadata": {},
   "outputs": [
    {
     "name": "stdout",
     "output_type": "stream",
     "text": [
      "Total number of movies that have received at least five reviews with a rating of 7 or higher is 459.\n"
     ]
    }
   ],
   "source": [
    "# Displaying the result\n",
    "print(\"Total number of movies that have received at least five reviews with a rating of 7 or higher is {}.\".format(df8['title'].nunique()))"
   ]
  }
 ],
 "metadata": {
  "kernelspec": {
   "display_name": "Python 3",
   "language": "python",
   "name": "python3"
  },
  "language_info": {
   "codemirror_mode": {
    "name": "ipython",
    "version": 3
   },
   "file_extension": ".py",
   "mimetype": "text/x-python",
   "name": "python",
   "nbconvert_exporter": "python",
   "pygments_lexer": "ipython3",
   "version": "3.8.5"
  }
 },
 "nbformat": 4,
 "nbformat_minor": 4
}
